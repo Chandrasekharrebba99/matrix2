{
 "cells": [
  {
   "cell_type": "code",
   "execution_count": 4,
   "id": "eb81f79c",
   "metadata": {
    "scrolled": true
   },
   "outputs": [
    {
     "name": "stdout",
     "output_type": "stream",
     "text": [
      "343444444\n",
      "3\n",
      "4\n",
      "3\n",
      "4\n",
      "4\n",
      "4\n",
      "4\n",
      "4\n"
     ]
    }
   ],
   "source": [
    "a = input()\n",
    "counter = 0\n",
    "length_of_a = len(a)\n",
    "while counter < (length_of_a - 1):\n",
    "    print(a[counter])\n",
    "    counter = (counter + 1)"
   ]
  },
  {
   "cell_type": "code",
   "execution_count": 2,
   "id": "e88101db",
   "metadata": {},
   "outputs": [
    {
     "data": {
      "text/plain": [
       "{'name': 'sdd', 'csd': 343}"
      ]
     },
     "execution_count": 2,
     "metadata": {},
     "output_type": "execute_result"
    }
   ],
   "source": [
    "d = {'name':\"sdd\",'csd':343}\n",
    "d\n"
   ]
  },
  {
   "cell_type": "code",
   "execution_count": 3,
   "id": "bbc25430",
   "metadata": {},
   "outputs": [],
   "source": [
    "del d['name']"
   ]
  },
  {
   "cell_type": "code",
   "execution_count": 4,
   "id": "61955b3f",
   "metadata": {},
   "outputs": [
    {
     "data": {
      "text/plain": [
       "{'csd': 343}"
      ]
     },
     "execution_count": 4,
     "metadata": {},
     "output_type": "execute_result"
    }
   ],
   "source": [
    "d"
   ]
  },
  {
   "cell_type": "code",
   "execution_count": 15,
   "id": "f71b24ea",
   "metadata": {},
   "outputs": [
    {
     "name": "stdout",
     "output_type": "stream",
     "text": [
      "1 2 3 4 \n",
      "2 3 4 5 \n",
      "3 4 5 6 \n",
      "4 5 6 7 \n",
      "5 6 7 8 \n",
      "6 7 8 9 \n"
     ]
    }
   ],
   "source": [
    "arr = [1,2,3,4,5,6,7,8,9]\n",
    "K =4\n",
    "for i in range(len(arr)-K+1):\n",
    "    sumint = 0\n",
    "    for j in range(i,i+K):\n",
    "        print(arr[j],end=\" \") \n",
    "    print()"
   ]
  },
  {
   "cell_type": "markdown",
   "id": "ac0ab7cb",
   "metadata": {},
   "source": [
    "\n",
    "# Window sliding method"
   ]
  },
  {
   "cell_type": "code",
   "execution_count": 14,
   "id": "f4842fad",
   "metadata": {},
   "outputs": [
    {
     "name": "stdout",
     "output_type": "stream",
     "text": [
      "12 2 321 3 \n",
      "2 321 3 12 \n",
      "321 3 12 3 \n",
      "3 12 3 213 \n",
      "12 3 213 2 \n"
     ]
    }
   ],
   "source": [
    "arrr = [12,2,321,3,12,3,213,2]\n",
    "N = 335\n",
    "K = 4\n",
    "\n",
    "for i in range(len(arrr)-K+1):\n",
    "    sumint  = 0\n",
    "    for j in range(i,i+K):\n",
    "        print(arrr[j],end=\" \")\n",
    "    print()\n",
    "        \n",
    "            "
   ]
  },
  {
   "cell_type": "code",
   "execution_count": 1,
   "id": "6abaab5b",
   "metadata": {},
   "outputs": [
    {
     "name": "stdout",
     "output_type": "stream",
     "text": [
      "[[1, 4, 7], [2, 5, 8], [3, 6, 9], [11, 12, 13]]\n"
     ]
    }
   ],
   "source": [
    "\n",
    "mat =[[1,2,3,11],[4,5,6,12],[7,8,9,13]]\n",
    "transmat = [[0,0,0],[0,0,0],[0,0,0],[0,0,0]]\n",
    "for i in range(3):\n",
    "    for j in range(4):\n",
    "        transmat[j][i] = mat[i][j]\n",
    "print(transmat)"
   ]
  },
  {
   "cell_type": "code",
   "execution_count": 11,
   "id": "b2b4fe12",
   "metadata": {},
   "outputs": [
    {
     "name": "stdout",
     "output_type": "stream",
     "text": [
      "[7, 4, 1]\n",
      "[8, 5, 2]\n",
      "[9, 6, 3]\n"
     ]
    }
   ],
   "source": [
    "for i in transmat:\n",
    "    print(revmat(i))"
   ]
  },
  {
   "cell_type": "code",
   "execution_count": 2,
   "id": "8ac2afe0",
   "metadata": {},
   "outputs": [
    {
     "name": "stdout",
     "output_type": "stream",
     "text": [
      "[[1, 4, 7], [2, 5, 8], [3, 6, 9]]\n"
     ]
    }
   ],
   "source": [
    "mat = [[1,2,3],[4,5,6],[7,8,9]]\n",
    "\n",
    "transmat = [[0,0,0],[0,0,0],[0,0,0]]\n",
    "for i in range(3):\n",
    "    for j in range(3):\n",
    "        transmat[i][j] = mat[j][i]\n",
    "print(transmat)"
   ]
  },
  {
   "cell_type": "code",
   "execution_count": 3,
   "id": "037147fa",
   "metadata": {},
   "outputs": [
    {
     "ename": "SyntaxError",
     "evalue": "leading zeros in decimal integer literals are not permitted; use an 0o prefix for octal integers (4024823526.py, line 1)",
     "output_type": "error",
     "traceback": [
      "\u001b[1;36m  Input \u001b[1;32mIn [3]\u001b[1;36m\u001b[0m\n\u001b[1;33m    02,11,22,01\u001b[0m\n\u001b[1;37m     ^\u001b[0m\n\u001b[1;31mSyntaxError\u001b[0m\u001b[1;31m:\u001b[0m leading zeros in decimal integer literals are not permitted; use an 0o prefix for octal integers\n"
     ]
    }
   ],
   "source": [
    "02,11,22,01\n"
   ]
  },
  {
   "cell_type": "code",
   "execution_count": null,
   "id": "5880c0a6",
   "metadata": {},
   "outputs": [],
   "source": []
  },
  {
   "cell_type": "code",
   "execution_count": 6,
   "id": "16574f30",
   "metadata": {},
   "outputs": [
    {
     "name": "stdout",
     "output_type": "stream",
     "text": [
      "3\n",
      "5\n",
      "7\n"
     ]
    }
   ],
   "source": [
    "mat = [[1,2,3],[4,5,6],[7,8,9]]\n",
    "rev = len(mat)-1\n",
    "for i in range(len(mat)):\n",
    "    print(mat[i][rev])\n",
    "    rev -=1"
   ]
  },
  {
   "cell_type": "code",
   "execution_count": 11,
   "id": "1500d9f8",
   "metadata": {},
   "outputs": [
    {
     "name": "stdout",
     "output_type": "stream",
     "text": [
      "15\n"
     ]
    }
   ],
   "source": [
    "arr = [1,2,3,4,5]\n",
    "N = len(arr)\n",
    "maxsum = arr[0]\n",
    "for i in range(2**N):\n",
    "    sumint = 0\n",
    "    for j in range(N):\n",
    "        if(i & 1<<j):\n",
    "            sumint +=arr[j]\n",
    "    maxsum = max(maxsum,sumint)\n",
    "print(maxsum)"
   ]
  },
  {
   "cell_type": "code",
   "execution_count": 12,
   "id": "6eae23d3",
   "metadata": {},
   "outputs": [
    {
     "data": {
      "text/plain": [
       "15"
      ]
     },
     "execution_count": 12,
     "metadata": {},
     "output_type": "execute_result"
    }
   ],
   "source": [
    "1+2+3+4+5"
   ]
  },
  {
   "cell_type": "code",
   "execution_count": 20,
   "id": "c962867f",
   "metadata": {},
   "outputs": [
    {
     "name": "stdout",
     "output_type": "stream",
     "text": [
      "7\n"
     ]
    }
   ],
   "source": [
    "arr = [-2,-3,4,-1,-2,1,5,-3]\n",
    "N = len(arr)\n",
    "maxsumint  = arr[0]\n",
    "for i in range(0,N):\n",
    "    for j in range(i,N):\n",
    "        sumint = 0\n",
    "        for k in range(i,j+1):\n",
    "             sumint +=arr[k]\n",
    "        maxsumint = max(sumint,maxsumint)\n",
    "print(maxsumint)"
   ]
  },
  {
   "cell_type": "code",
   "execution_count": null,
   "id": "a2b15cd6",
   "metadata": {},
   "outputs": [],
   "source": [
    "arr = [[]]"
   ]
  },
  {
   "cell_type": "code",
   "execution_count": null,
   "id": "8a395f2e",
   "metadata": {},
   "outputs": [],
   "source": []
  },
  {
   "cell_type": "code",
   "execution_count": null,
   "id": "f7d30412",
   "metadata": {},
   "outputs": [],
   "source": []
  },
  {
   "cell_type": "code",
   "execution_count": null,
   "id": "594c3307",
   "metadata": {},
   "outputs": [],
   "source": []
  },
  {
   "cell_type": "code",
   "execution_count": null,
   "id": "1e34008b",
   "metadata": {},
   "outputs": [],
   "source": []
  },
  {
   "cell_type": "code",
   "execution_count": null,
   "id": "186637ed",
   "metadata": {},
   "outputs": [],
   "source": []
  },
  {
   "cell_type": "code",
   "execution_count": 31,
   "id": "4b92381a",
   "metadata": {},
   "outputs": [
    {
     "name": "stdout",
     "output_type": "stream",
     "text": [
      "[[3, 6, 9], [2, 5, 8], [1, 4, 7]]\n"
     ]
    }
   ],
   "source": [
    "mat = [[1,2,3],[4,5,6],[7,8,9]]\n",
    "def revrse(arr):\n",
    "    return arr[::-1]\n",
    "newmat = []\n",
    "for i in mat:\n",
    "    newmat.append(revrse(i))\n",
    "\n",
    "def transpose(mat):\n",
    "    transmat = [[0,0,0],[0,0,0],[0,0,0]]\n",
    "    for i in range(3):\n",
    "        for j in range(3):\n",
    "            transmat[i][j] = mat[j][i]\n",
    "    return transmat\n",
    "temp = transpose(newmat)\n",
    "print(temp)"
   ]
  },
  {
   "cell_type": "code",
   "execution_count": null,
   "id": "8fc72e3b",
   "metadata": {},
   "outputs": [],
   "source": []
  },
  {
   "cell_type": "code",
   "execution_count": 29,
   "id": "5f4cebae",
   "metadata": {},
   "outputs": [
    {
     "name": "stdout",
     "output_type": "stream",
     "text": [
      "3 6 9 \n",
      "2 5 8 \n",
      "1 4 7 \n"
     ]
    }
   ],
   "source": [
    "# Python 3 program for left rotation of matrix by 90\n",
    "# degree without using extra space\n",
    "\n",
    "R = 3\n",
    "C = 3\n",
    "\n",
    "# After transpose we swap elements of column\n",
    "# one by one for finding left rotation of matrix\n",
    "# by 90 degree\n",
    "\n",
    "\n",
    "def reverseColumns(arr):\n",
    "\tfor i in range(C):\n",
    "\t\tj = 0\n",
    "\t\tk = C-1\n",
    "\t\twhile j < k:\n",
    "\t\t\tt = arr[j][i]\n",
    "\t\t\tarr[j][i] = arr[k][i]\n",
    "\t\t\tarr[k][i] = t\n",
    "\t\t\tj += 1\n",
    "\t\t\tk -= 1\n",
    "\n",
    "# Function for do transpose of matrix\n",
    "\n",
    "\n",
    "def transpose(arr):\n",
    "\tfor i in range(R):\n",
    "\t\tfor j in range(i, C):\n",
    "\t\t\tt = arr[i][j]\n",
    "\t\t\tarr[i][j] = arr[j][i]\n",
    "\t\t\tarr[j][i] = t\n",
    "\n",
    "# Function for print matrix\n",
    "\n",
    "\n",
    "def printMatrix(arr):\n",
    "\tfor i in range(R):\n",
    "\t\tfor j in range(C):\n",
    "\t\t\tprint(str(arr[i][j]), end=\" \")\n",
    "\t\tprint()\n",
    "\n",
    "# Function to anticlockwise rotate matrix\n",
    "# by 90 degree\n",
    "\n",
    "\n",
    "def rotate90(arr):\n",
    "\ttranspose(arr)\n",
    "\treverseColumns(arr)\n",
    "\n",
    "\n",
    "# Driven code\n",
    "arr = [[1,2,3],[4,5,6],[7,8,9]]\n",
    "rotate90(arr)\n",
    "printMatrix(arr)\n"
   ]
  },
  {
   "cell_type": "code",
   "execution_count": 7,
   "id": "eeadc836",
   "metadata": {},
   "outputs": [
    {
     "name": "stdout",
     "output_type": "stream",
     "text": [
      "\n",
      "1 \n",
      "2 \n",
      "1 2 \n",
      "3 \n",
      "1 3 \n",
      "2 3 \n",
      "1 2 3 \n",
      "4 \n",
      "1 4 \n",
      "2 4 \n",
      "1 2 4 \n",
      "3 4 \n",
      "1 3 4 \n",
      "2 3 4 \n",
      "1 2 3 4 \n"
     ]
    }
   ],
   "source": [
    "def subseq(arr,N):\n",
    "    for i in range(2**N):\n",
    "        for j in range(0,N):\n",
    "            if (i & (1<<j)):\n",
    "                print(arr[j],end=\" \")\n",
    "        print()\n",
    "        \n",
    "arr =[1,2,3,4]\n",
    "n = 4\n",
    "subseq(arr,n)"
   ]
  },
  {
   "cell_type": "code",
   "execution_count": null,
   "id": "9f712db1",
   "metadata": {},
   "outputs": [],
   "source": [
    "#transpose\n",
    "#diagonal\n",
    "#antidiagonal\n",
    "#lower triange\n",
    "#upper triangle\n",
    "#rotate matrix\n",
    "#full antidiagonal\n",
    "#full diagonal matrix\n",
    "#spiral\n",
    "#reverse matrix"
   ]
  },
  {
   "cell_type": "code",
   "execution_count": 63,
   "id": "bb8d4cfb",
   "metadata": {},
   "outputs": [
    {
     "name": "stdout",
     "output_type": "stream",
     "text": [
      "4\n",
      "7\n",
      "8\n"
     ]
    }
   ],
   "source": [
    "#lower triangel\n",
    "\n",
    "mat = [[1,2,3],[4,5,6],[7,8,9]]\n",
    "N=len(mat)\n",
    "for i in range(N):\n",
    "    for j in range(0,i):\n",
    "        print(mat[i][j])"
   ]
  },
  {
   "cell_type": "code",
   "execution_count": 3,
   "id": "d0f9d9d9",
   "metadata": {},
   "outputs": [
    {
     "name": "stdout",
     "output_type": "stream",
     "text": [
      "4\n",
      "7\n",
      "8\n"
     ]
    }
   ],
   "source": [
    "#lower triangel\n",
    "\n",
    "mat = [[1,2,3],[4,5,6],[7,8,9]]\n",
    "N=len(mat)\n",
    "for i in range(N):\n",
    "    for j in range(0,i):\n",
    "        print(mat[i][j])"
   ]
  },
  {
   "cell_type": "code",
   "execution_count": 50,
   "id": "3ace3c86",
   "metadata": {},
   "outputs": [],
   "source": [
    "#diagonal MAtrix"
   ]
  },
  {
   "cell_type": "code",
   "execution_count": 56,
   "id": "7393ce65",
   "metadata": {},
   "outputs": [
    {
     "name": "stdout",
     "output_type": "stream",
     "text": [
      "1\n",
      "4 2\n",
      "7 5 3\n",
      "8 6\n",
      "9\n"
     ]
    }
   ],
   "source": [
    "mat= [\n",
    "    [1,2,3],\n",
    "    [4,5,6],\n",
    "    [7,8,9]\n",
    "]\n",
    "\n",
    "row =3\n",
    "col =3\n",
    "\n",
    "for i in range(row+col-1):\n",
    "    ls1 = []\n",
    "    for j in range(row):\n",
    "        for k in range(col):\n",
    "            if(i == j+k):\n",
    "                ls1.append(mat[j][k])\n",
    "    print(*ls1[::-1])"
   ]
  },
  {
   "cell_type": "code",
   "execution_count": 8,
   "id": "21644aaf",
   "metadata": {},
   "outputs": [
    {
     "name": "stdout",
     "output_type": "stream",
     "text": [
      "1\n",
      "2 4\n",
      "3 5 7\n",
      "6 8\n",
      "9\n"
     ]
    }
   ],
   "source": [
    "mat = [[1,2,3],[4,5,6],[7,8,9]]\n",
    "row = len(mat)\n",
    "col = len(mat[0])\n",
    "for  i in range(row+col-1):\n",
    "    ls1 = []\n",
    "    for j in range(row):\n",
    "        for k in range(col):\n",
    "            if(i == j+k):\n",
    "                ls1.append(mat[j][k])\n",
    "    print(*ls1)\n",
    "            \n"
   ]
  },
  {
   "cell_type": "code",
   "execution_count": 52,
   "id": "bae868e0",
   "metadata": {},
   "outputs": [],
   "source": [
    "#anti diagonal matrix"
   ]
  },
  {
   "cell_type": "code",
   "execution_count": 1,
   "id": "60d77371",
   "metadata": {},
   "outputs": [
    {
     "ename": "IndexError",
     "evalue": "list index out of range",
     "output_type": "error",
     "traceback": [
      "\u001b[1;31m---------------------------------------------------------------------------\u001b[0m",
      "\u001b[1;31mIndexError\u001b[0m                                Traceback (most recent call last)",
      "Input \u001b[1;32mIn [1]\u001b[0m, in \u001b[0;36m<cell line: 8>\u001b[1;34m()\u001b[0m\n\u001b[0;32m      9\u001b[0m nums \u001b[38;5;241m=\u001b[39m[]\n\u001b[0;32m     10\u001b[0m \u001b[38;5;28;01mfor\u001b[39;00m j \u001b[38;5;129;01min\u001b[39;00m \u001b[38;5;28mrange\u001b[39m(col,\u001b[38;5;241m-\u001b[39m\u001b[38;5;241m1\u001b[39m,\u001b[38;5;241m-\u001b[39m\u001b[38;5;241m1\u001b[39m):\n\u001b[1;32m---> 11\u001b[0m     nums\u001b[38;5;241m.\u001b[39mappend(\u001b[43mmatrix\u001b[49m\u001b[43m[\u001b[49m\u001b[43mj\u001b[49m\u001b[43m]\u001b[49m[count])\n\u001b[0;32m     12\u001b[0m count \u001b[38;5;241m+\u001b[39m\u001b[38;5;241m=\u001b[39m\u001b[38;5;241m1\u001b[39m\n\u001b[0;32m     13\u001b[0m rotmat\u001b[38;5;241m.\u001b[39mappend(nums)\n",
      "\u001b[1;31mIndexError\u001b[0m: list index out of range"
     ]
    }
   ],
   "source": [
    "matrix = [[1,2,3,4],[5,6,7,8],[9,10,11,12]]\n",
    "row = len(matrix)\n",
    "col = len(matrix[0])\n",
    "\n",
    "\n",
    "count = 0\n",
    "rotmat = []\n",
    "for i in range(row):\n",
    "    nums =[]\n",
    "    for j in range(col,-1,-1):\n",
    "        nums.append(matrix[j][count])\n",
    "    count +=1\n",
    "    rotmat.append(nums)\n",
    "print(rotmat)"
   ]
  },
  {
   "cell_type": "code",
   "execution_count": 84,
   "id": "07f89172",
   "metadata": {},
   "outputs": [
    {
     "name": "stdout",
     "output_type": "stream",
     "text": [
      "2\n",
      "1\n",
      "0\n",
      "2\n",
      "1\n",
      "0\n",
      "2\n",
      "1\n",
      "0\n"
     ]
    }
   ],
   "source": [
    "matrix = [[1,2,3,4],[5,6,7,8],[9,10,11,12]]\n",
    "row = len(matrix)\n",
    "col = len(matrix[0])-1\n",
    "\n",
    "count = 0\n",
    "rotmat = []\n",
    "for i in range(row):\n",
    "    nums =[]\n",
    "    for j in range(col):\n",
    "        j=col-1-j\n",
    "        print(j)\n",
    "    count+=1"
   ]
  },
  {
   "cell_type": "code",
   "execution_count": 93,
   "id": "5619a4c9",
   "metadata": {},
   "outputs": [
    {
     "name": "stdout",
     "output_type": "stream",
     "text": [
      "[1, 2, 3, 4, 5, 42, 234]\n",
      "{1, 2, 3, 4, 5, 42, 234}\n"
     ]
    }
   ],
   "source": [
    "#sets and tuples\n",
    "arr = {1,2,234,3,4,5,4,3,42}\n",
    "print(sorted(set(arr)))\n",
    "print(arr)"
   ]
  },
  {
   "cell_type": "code",
   "execution_count": 94,
   "id": "5501cc9b",
   "metadata": {},
   "outputs": [
    {
     "name": "stdout",
     "output_type": "stream",
     "text": [
      "False\n"
     ]
    }
   ],
   "source": [
    "ar = (12,3,123,12,3)\n",
    "print(53 in arr)"
   ]
  },
  {
   "cell_type": "code",
   "execution_count": 107,
   "id": "751a4295",
   "metadata": {},
   "outputs": [
    {
     "name": "stdout",
     "output_type": "stream",
     "text": [
      "{432, 1, 3, 4356, 5, 23, 232}\n",
      "{432, 1, 3, 4356, 5, 23, 232, 12}\n",
      "{1, 3, 4356, 5, 23, 232, 12}\n"
     ]
    }
   ],
   "source": [
    "arr = {1,232,23,3,432,4356,5,5}\n",
    "print(arr)\n",
    "arr.add(12)\n",
    "print(arr)\n",
    "arr.discard(432)\n",
    "print(arr)"
   ]
  },
  {
   "cell_type": "code",
   "execution_count": 100,
   "id": "ec3eb767",
   "metadata": {},
   "outputs": [
    {
     "name": "stdout",
     "output_type": "stream",
     "text": [
      "['c', 'h', 'a', 'n', 'd', 'u']\n"
     ]
    }
   ],
   "source": [
    "word = \"chandu\"\n",
    "print(list((tuple(word))))"
   ]
  },
  {
   "cell_type": "code",
   "execution_count": 101,
   "id": "393ba5a7",
   "metadata": {},
   "outputs": [
    {
     "name": "stdout",
     "output_type": "stream",
     "text": [
      "4 5\n",
      "4\n",
      "5\n"
     ]
    }
   ],
   "source": [
    "M,N = list(map(int,input().split(\" \")))\n",
    "print(M)\n",
    "print(N)"
   ]
  },
  {
   "cell_type": "code",
   "execution_count": 117,
   "id": "1504f387",
   "metadata": {},
   "outputs": [
    {
     "name": "stdout",
     "output_type": "stream",
     "text": [
      "set()\n"
     ]
    }
   ],
   "source": [
    "arr = {12,3,12,3,12,324}\n",
    "arr.clear()\n",
    "print(arr)"
   ]
  },
  {
   "cell_type": "code",
   "execution_count": 112,
   "id": "9d6e1f86",
   "metadata": {},
   "outputs": [
    {
     "data": {
      "text/plain": [
       "{12, 324}"
      ]
     },
     "execution_count": 112,
     "metadata": {},
     "output_type": "execute_result"
    }
   ],
   "source": [
    "arr"
   ]
  },
  {
   "cell_type": "code",
   "execution_count": 126,
   "id": "7632d1f4",
   "metadata": {},
   "outputs": [
    {
     "ename": "TypeError",
     "evalue": "unsupported operand type(s) for |: 'set' and 'list'",
     "output_type": "error",
     "traceback": [
      "\u001b[1;31m---------------------------------------------------------------------------\u001b[0m",
      "\u001b[1;31mTypeError\u001b[0m                                 Traceback (most recent call last)",
      "Input \u001b[1;32mIn [126]\u001b[0m, in \u001b[0;36m<cell line: 3>\u001b[1;34m()\u001b[0m\n\u001b[0;32m      1\u001b[0m arr1 \u001b[38;5;241m=\u001b[39m {\u001b[38;5;241m1232\u001b[39m,\u001b[38;5;241m2\u001b[39m,\u001b[38;5;241m3\u001b[39m,\u001b[38;5;241m12\u001b[39m,\u001b[38;5;241m3\u001b[39m,\u001b[38;5;241m1\u001b[39m}\n\u001b[0;32m      2\u001b[0m arr2 \u001b[38;5;241m=\u001b[39m [\u001b[38;5;241m23\u001b[39m,\u001b[38;5;241m234\u001b[39m,\u001b[38;5;241m2\u001b[39m,\u001b[38;5;241m34\u001b[39m,\u001b[38;5;241m2\u001b[39m]\n\u001b[1;32m----> 3\u001b[0m k \u001b[38;5;241m=\u001b[39m \u001b[43marr1\u001b[49m\u001b[43m \u001b[49m\u001b[38;5;241;43m|\u001b[39;49m\u001b[43marr2\u001b[49m\n\u001b[0;32m      4\u001b[0m \u001b[38;5;28mprint\u001b[39m(k)\n",
      "\u001b[1;31mTypeError\u001b[0m: unsupported operand type(s) for |: 'set' and 'list'"
     ]
    }
   ],
   "source": [
    "arr1 = {1232,2,3,12,3,1}\n",
    "arr2 = [23,234,2,34,2]\n",
    "k = arr1 |arr2\n",
    "print(k)"
   ]
  },
  {
   "cell_type": "code",
   "execution_count": 2,
   "id": "f8331b8d",
   "metadata": {},
   "outputs": [
    {
     "name": "stdout",
     "output_type": "stream",
     "text": [
      "9223372036854775807\n"
     ]
    }
   ],
   "source": [
    "import sys\n",
    "diff = sys.maxsize\n",
    "print(diff)"
   ]
  },
  {
   "cell_type": "code",
   "execution_count": 8,
   "id": "7e0af546",
   "metadata": {},
   "outputs": [
    {
     "name": "stdout",
     "output_type": "stream",
     "text": [
      "[[1, 4, 10], [2, 15, 20], [10, 12]]\n"
     ]
    }
   ],
   "source": [
    "A = [1,4,10]\n",
    "B = [2,15,20]\n",
    "C =[10,12]\n",
    "\n",
    "\n",
    "matrix = []\n",
    "matrix.append(A)\n",
    "matrix.append(B)\n",
    "matrix.append(C)\n",
    "print(matrix)"
   ]
  },
  {
   "cell_type": "code",
   "execution_count": 10,
   "id": "9f493f8d",
   "metadata": {},
   "outputs": [],
   "source": [
    "realmat = []\n",
    "for i in A:\n",
    "    for j in B:\n",
    "        for k in C:\n",
    "            nums = [i,j,k]\n",
    "            realmat.append(nums)\n"
   ]
  },
  {
   "cell_type": "code",
   "execution_count": 30,
   "id": "959e2776",
   "metadata": {},
   "outputs": [
    {
     "data": {
      "text/plain": [
       "[[1, 2, 10],\n",
       " [1, 2, 12],\n",
       " [1, 15, 10],\n",
       " [1, 15, 12],\n",
       " [1, 20, 10],\n",
       " [1, 20, 12],\n",
       " [4, 2, 10],\n",
       " [4, 2, 12],\n",
       " [4, 15, 10],\n",
       " [4, 15, 12],\n",
       " [4, 20, 10],\n",
       " [4, 20, 12],\n",
       " [10, 2, 10],\n",
       " [10, 2, 12],\n",
       " [10, 15, 10],\n",
       " [10, 15, 12],\n",
       " [10, 20, 10],\n",
       " [10, 20, 12]]"
      ]
     },
     "execution_count": 30,
     "metadata": {},
     "output_type": "execute_result"
    }
   ],
   "source": [
    "realmat"
   ]
  },
  {
   "cell_type": "code",
   "execution_count": 31,
   "id": "a1e541cb",
   "metadata": {},
   "outputs": [
    {
     "name": "stdout",
     "output_type": "stream",
     "text": [
      "-8\n",
      "-10\n",
      "5\n",
      "3\n",
      "10\n",
      "8\n",
      "-8\n",
      "-10\n",
      "5\n",
      "3\n",
      "10\n",
      "8\n",
      "-8\n",
      "-10\n",
      "5\n",
      "3\n",
      "10\n",
      "8\n"
     ]
    }
   ],
   "source": [
    "for i in realmat:\n",
    "    sumint = 0\n",
    "    for j in range(0,len(i)-1):\n",
    "        sumint += (i[j]-i[j-1])\n",
    "    print(sumint)"
   ]
  },
  {
   "cell_type": "code",
   "execution_count": 25,
   "id": "f417e84a",
   "metadata": {},
   "outputs": [
    {
     "name": "stdout",
     "output_type": "stream",
     "text": [
      "-1\n",
      "-3\n",
      "-1\n",
      "-69\n"
     ]
    }
   ],
   "source": [
    "arr  = [1,2,5,6,75]\n",
    "for i in range(0,len(arr)-1):\n",
    "    print(arr[i]-arr[i+1])"
   ]
  },
  {
   "cell_type": "code",
   "execution_count": 41,
   "id": "f95724d2",
   "metadata": {},
   "outputs": [
    {
     "name": "stdout",
     "output_type": "stream",
     "text": [
      "['A', 's', 'c', 's', 'c', 's', 'd']\n"
     ]
    }
   ],
   "source": [
    "k = \"Ascscsd\"\n",
    "l = tuple(k)\n",
    "print(list(l))"
   ]
  },
  {
   "cell_type": "code",
   "execution_count": 48,
   "id": "3133f211",
   "metadata": {},
   "outputs": [
    {
     "name": "stdout",
     "output_type": "stream",
     "text": [
      "False\n"
     ]
    }
   ],
   "source": [
    "print(9//10==9)"
   ]
  },
  {
   "cell_type": "code",
   "execution_count": 49,
   "id": "4c38e012",
   "metadata": {},
   "outputs": [
    {
     "data": {
      "text/plain": [
       "7500"
      ]
     },
     "execution_count": 49,
     "metadata": {},
     "output_type": "execute_result"
    }
   ],
   "source": [
    "100*75"
   ]
  },
  {
   "cell_type": "code",
   "execution_count": 51,
   "id": "b87c96f7",
   "metadata": {},
   "outputs": [
    {
     "name": "stdout",
     "output_type": "stream",
     "text": [
      " A boy carrying bag slipped on floor\n"
     ]
    }
   ],
   "source": [
    "nums = list(map(str,input(\" \").split(\" \")))\n",
    "\n",
    "\n",
    "def rotate(word):\n",
    "    vowels = ['a','e','i','o','u','A','I','O','U','E']\n",
    "    for i in range(len(word)):\n",
    "        if(word[i] in vowels):\n",
    "            copy = i\n",
    "            break\n",
    "    return word[i:]+word[:i]\n",
    "\n",
    "result = \"\"\n",
    "for i in nums:\n",
    "    k = rotate(i)\n",
    "    result +=k+\" \"\n",
    "\n",
    "k = (result[:-1])\n"
   ]
  },
  {
   "cell_type": "code",
   "execution_count": 52,
   "id": "9646ae2c",
   "metadata": {},
   "outputs": [
    {
     "data": {
      "text/plain": [
       "'A oyb arryingc agb ippedsl on oorfl'"
      ]
     },
     "execution_count": 52,
     "metadata": {},
     "output_type": "execute_result"
    }
   ],
   "source": [
    "k"
   ]
  },
  {
   "cell_type": "code",
   "execution_count": 53,
   "id": "a7d3f9c6",
   "metadata": {},
   "outputs": [
    {
     "data": {
      "text/plain": [
       "164000"
      ]
     },
     "execution_count": 53,
     "metadata": {},
     "output_type": "execute_result"
    }
   ],
   "source": [
    "2000*82"
   ]
  },
  {
   "cell_type": "code",
   "execution_count": 54,
   "id": "5eb24d34",
   "metadata": {},
   "outputs": [
    {
     "name": "stdout",
     "output_type": "stream",
     "text": [
      "02\n",
      "0\n"
     ]
    }
   ],
   "source": [
    "N = input()\n",
    "\n",
    "sumint = 1\n",
    "for i in N:\n",
    "    sumint*=int(i)\n",
    "print(sumint)\n",
    "    "
   ]
  },
  {
   "cell_type": "code",
   "execution_count": 55,
   "id": "1b9ded69",
   "metadata": {},
   "outputs": [
    {
     "name": "stdout",
     "output_type": "stream",
     "text": [
      "0\n",
      "1\n"
     ]
    }
   ],
   "source": [
    "N = input()\n",
    "if(N[0] == \"0\"):\n",
    "    N = N[1:]\n",
    "\n",
    "sumint = 1\n",
    "for i in N:\n",
    "    sumint*=int(i)\n",
    "print(sumint)\n",
    "    "
   ]
  },
  {
   "cell_type": "code",
   "execution_count": 7,
   "id": "576c8d16",
   "metadata": {},
   "outputs": [
    {
     "name": "stdout",
     "output_type": "stream",
     "text": [
      "1 \n",
      "1 2 \n",
      "1 2 3 \n",
      "1 2 3 4 \n",
      "1 2 3 4 5 \n",
      "2 \n",
      "2 3 \n",
      "2 3 4 \n",
      "2 3 4 5 \n",
      "3 \n",
      "3 4 \n",
      "3 4 5 \n",
      "4 \n",
      "4 5 \n",
      "5 \n"
     ]
    }
   ],
   "source": [
    "arr = [1,2,3,4,5]\n",
    "for i in range(len(arr)):\n",
    "    for j in range(i,len(arr)):\n",
    "        for k in range(i,j+1):\n",
    "            print(arr[k],end=\" \")\n",
    "        print()"
   ]
  },
  {
   "cell_type": "code",
   "execution_count": 1,
   "id": "60fa2c21",
   "metadata": {},
   "outputs": [
    {
     "name": "stdout",
     "output_type": "stream",
     "text": [
      "1\n",
      "12\n",
      "123\n",
      "1234\n",
      "12345\n",
      "2\n",
      "23\n",
      "234\n",
      "2345\n",
      "3\n",
      "34\n",
      "345\n",
      "4\n",
      "45\n",
      "5\n"
     ]
    }
   ],
   "source": [
    "arr = [1,2,3,4,5]\n",
    "for i in range(len(arr)):\n",
    "    for j in range(i,len(arr)):\n",
    "        for k in range(i,j+1):\n",
    "            print(arr[k],end=\"\")\n",
    "        print()"
   ]
  },
  {
   "cell_type": "code",
   "execution_count": 7,
   "id": "b64fd1b2",
   "metadata": {},
   "outputs": [
    {
     "name": "stdout",
     "output_type": "stream",
     "text": [
      "\n",
      "1\n",
      "2\n",
      "12\n",
      "3\n",
      "13\n",
      "23\n",
      "123\n",
      "4\n",
      "14\n",
      "24\n",
      "124\n",
      "34\n",
      "134\n",
      "234\n",
      "1234\n",
      "5\n",
      "15\n",
      "25\n",
      "125\n",
      "35\n",
      "135\n",
      "235\n",
      "1235\n",
      "45\n",
      "145\n",
      "245\n",
      "1245\n",
      "345\n",
      "1345\n",
      "2345\n",
      "12345\n"
     ]
    }
   ],
   "source": [
    "def subseq(arr,N):\n",
    "    for i in range(2**N):\n",
    "        for j in range(0,N):\n",
    "            if (i & (1<<j)):\n",
    "                print(arr[j],end=\"\")\n",
    "        print()\n",
    "        \n",
    "arr =[1,2,3,4,5]\n",
    "n = 5\n",
    "subseq(arr,n)"
   ]
  },
  {
   "cell_type": "code",
   "execution_count": 4,
   "id": "b83d1a44",
   "metadata": {},
   "outputs": [
    {
     "name": "stdout",
     "output_type": "stream",
     "text": [
      "\n",
      "1\n",
      "2\n",
      "12\n",
      "3\n",
      "13\n",
      "23\n",
      "123\n",
      "4\n",
      "14\n",
      "24\n",
      "124\n",
      "34\n",
      "134\n",
      "234\n",
      "1234\n",
      "5\n",
      "15\n",
      "25\n",
      "125\n",
      "35\n",
      "135\n",
      "235\n",
      "1235\n",
      "45\n",
      "145\n",
      "245\n",
      "1245\n",
      "345\n",
      "1345\n",
      "2345\n",
      "12345\n"
     ]
    }
   ],
   "source": [
    "arr = [1,2,3,4,5]\n",
    "n = len(arr)\n",
    "for i in range(2**n):\n",
    "    for j in range(n):\n",
    "        if(i & 1<<j):\n",
    "            print(arr[j],end=\"\")\n",
    "    print()"
   ]
  },
  {
   "cell_type": "code",
   "execution_count": null,
   "id": "8ecc5deb",
   "metadata": {},
   "outputs": [],
   "source": []
  }
 ],
 "metadata": {
  "kernelspec": {
   "display_name": "Python 3 (ipykernel)",
   "language": "python",
   "name": "python3"
  },
  "language_info": {
   "codemirror_mode": {
    "name": "ipython",
    "version": 3
   },
   "file_extension": ".py",
   "mimetype": "text/x-python",
   "name": "python",
   "nbconvert_exporter": "python",
   "pygments_lexer": "ipython3",
   "version": "3.9.12"
  }
 },
 "nbformat": 4,
 "nbformat_minor": 5
}
